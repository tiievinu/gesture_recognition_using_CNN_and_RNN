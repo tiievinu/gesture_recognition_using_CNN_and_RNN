{
 "cells": [
  {
   "cell_type": "markdown",
   "metadata": {
    "id": "94ctoUOX_nkO"
   },
   "source": [
    "# Gesture Recognition\n",
    "In this group project, you are going to build a 3D Conv model that will be able to predict the 5 gestures correctly. Please import the following libraries to get started."
   ]
  },
  {
   "cell_type": "code",
   "execution_count": null,
   "metadata": {
    "colab": {
     "base_uri": "https://localhost:8080/"
    },
    "id": "9kSG9cOR_rPz",
    "outputId": "eb9821f6-2ffb-4a8e-e56a-38a8a14b77f9"
   },
   "outputs": [
    {
     "name": "stdout",
     "output_type": "stream",
     "text": [
      "Collecting scipy==1.1.0\n",
      "  Downloading scipy-1.1.0-cp37-cp37m-manylinux1_x86_64.whl (31.2 MB)\n",
      "\u001b[K     |████████████████████████████████| 31.2 MB 50 kB/s \n",
      "\u001b[?25hRequirement already satisfied: numpy>=1.8.2 in /usr/local/lib/python3.7/dist-packages (from scipy==1.1.0) (1.19.5)\n",
      "Installing collected packages: scipy\n",
      "  Attempting uninstall: scipy\n",
      "    Found existing installation: scipy 1.4.1\n",
      "    Uninstalling scipy-1.4.1:\n",
      "      Successfully uninstalled scipy-1.4.1\n",
      "\u001b[31mERROR: pip's dependency resolver does not currently take into account all the packages that are installed. This behaviour is the source of the following dependency conflicts.\n",
      "pymc3 3.11.2 requires scipy>=1.2.0, but you have scipy 1.1.0 which is incompatible.\n",
      "plotnine 0.6.0 requires scipy>=1.2.0, but you have scipy 1.1.0 which is incompatible.\n",
      "albumentations 0.1.12 requires imgaug<0.2.7,>=0.2.5, but you have imgaug 0.2.9 which is incompatible.\u001b[0m\n",
      "Successfully installed scipy-1.1.0\n"
     ]
    }
   ],
   "source": [
    "pip install scipy==1.1.0"
   ]
  },
  {
   "cell_type": "code",
   "execution_count": null,
   "metadata": {
    "collapsed": true,
    "id": "XCcggNjg_nkQ"
   },
   "outputs": [],
   "source": [
    "import numpy as np\n",
    "import os\n",
    "from scipy.misc import imread, imresize\n",
    "import datetime\n",
    "import os"
   ]
  },
  {
   "cell_type": "markdown",
   "metadata": {
    "id": "jpUReQ8x_nkR"
   },
   "source": [
    "We set the random seed so that the results don't vary drastically."
   ]
  },
  {
   "cell_type": "code",
   "execution_count": null,
   "metadata": {
    "collapsed": true,
    "id": "M2L0VYxc_nkR"
   },
   "outputs": [],
   "source": [
    "np.random.seed(30)\n",
    "import random as rn\n",
    "rn.seed(30)\n",
    "from keras import backend as K\n",
    "import tensorflow as tf\n",
    "tf.random.set_seed(30)\n",
    "from keras.layers import Dense, GRU, Flatten, TimeDistributed, Flatten, BatchNormalization, Activation, Dropout"
   ]
  },
  {
   "cell_type": "code",
   "execution_count": null,
   "metadata": {
    "colab": {
     "base_uri": "https://localhost:8080/"
    },
    "id": "tzV0ejE__-Fw",
    "outputId": "4404004f-57ee-4439-9e2c-d3ee850261c0"
   },
   "outputs": [
    {
     "name": "stdout",
     "output_type": "stream",
     "text": [
      "Mounted at /content/drive\n"
     ]
    }
   ],
   "source": [
    "from google.colab import drive\n",
    "drive.mount('/content/drive')"
   ]
  },
  {
   "cell_type": "markdown",
   "metadata": {
    "id": "92CGgt6P_nkS"
   },
   "source": [
    "In this block, you read the folder names for training and validation. You also set the `batch_size` here. Note that you set the batch size in such a way that you are able to use the GPU in full capacity. You keep increasing the batch size until the machine throws an error."
   ]
  },
  {
   "cell_type": "code",
   "execution_count": null,
   "metadata": {
    "collapsed": true,
    "id": "fx2ksCjK_nkS"
   },
   "outputs": [],
   "source": [
    "train_doc = np.random.permutation(open('/content/drive/MyDrive/Project_data.zip (Unzipped Files)/Project_data/train.csv').readlines())\n",
    "val_doc = np.random.permutation(open('/content/drive/MyDrive/Project_data.zip (Unzipped Files)/Project_data/val.csv').readlines())\n",
    "\n"
   ]
  },
  {
   "cell_type": "code",
   "execution_count": null,
   "metadata": {
    "collapsed": true,
    "id": "EfIxuz4U_6mW"
   },
   "outputs": [],
   "source": [
    "batch_size = 64\n",
    "#experiment with the batch size"
   ]
  },
  {
   "cell_type": "markdown",
   "metadata": {
    "id": "bGopZjxT_nkT"
   },
   "source": [
    "## Generator\n",
    "This is one of the most important part of the code. The overall structure of the generator has been given. In the generator, you are going to preprocess the images as you have images of 2 different dimensions as well as create a batch of video frames. You have to experiment with `img_idx`, `y`,`z` and normalization such that you get high accuracy."
   ]
  },
  {
   "cell_type": "code",
   "execution_count": null,
   "metadata": {
    "collapsed": true,
    "id": "8woMEWmMAR5u"
   },
   "outputs": [],
   "source": [
    "def generator(source_path, folder_list, batch_size):\n",
    "    print( 'Source path = ', source_path, '; batch size =', batch_size)\n",
    "    img_idx = np.arange(0,40,3) #create a list of image numbers you want to use for a particular video\n",
    "    while True:\n",
    "        t = np.random.permutation(folder_list)\n",
    "        num_batches = len(folder_list)//batch_size # calculate the number of batches\n",
    "        for batch in range(num_batches): # we iterate over the number of batches\n",
    "            batch_data = np.zeros((batch_size,len(img_idx),50,50,3)) # x is the number of images you use for each video, (y,z) is the final size of the input images and 3 is the number of channels RGB\n",
    "            batch_labels = np.zeros((batch_size,5)) # batch_labels is the one hot representation of the output\n",
    "            for folder in range(batch_size): # iterate over the batch_size\n",
    "                imgs = os.listdir(source_path+'/'+ t[folder + (batch*batch_size)].split(';')[0]) # read all the images in the folder\n",
    "                for idx,item in enumerate(img_idx): #  Iterate iver the frames/images of a folder to read them in\n",
    "                    image = imread(source_path+'/'+ t[folder + (batch*batch_size)].strip().split(';')[0]+'/'+imgs[item]).astype(np.float32)\n",
    "                    \n",
    "                    #croping the images and resizing them. \n",
    "                    \n",
    "                    \n",
    "                    image = imresize(image,(50,50))\n",
    "                    image = image - np.percentile(image,5)/ np.percentile(image,95) - np.percentile(image,5)\n",
    "                    batch_data[folder,idx,:,:,0] = image[:,:,0]\n",
    "                    batch_data[folder,idx,:,:,1] = image[:,:,1]\n",
    "                    batch_data[folder,idx,:,:,2] = image[:,:,2]\n",
    "                    \n",
    "                batch_labels[folder, int(t[folder + (batch*batch_size)].strip().split(';')[2])] = 1\n",
    "            yield batch_data, batch_labels #yielding the batch_data and the batch_labels, remember what does yield do\n",
    "        rem_image = len(folder_list)%batch_size\n",
    "        batch += 1\n",
    "        if(rem_image!=0):\n",
    "            batch_data = np.zeros((rem_image,len(img_idx),50,50,3)) # x is the number of images you use for each video, (y,z) is the final size of the input images and 3 is the number of channels RGB\n",
    "            batch_labels = np.zeros((rem_image,5)) # batch_labels is the one hot representation of the output\n",
    "            for folder in range(rem_image): # iterate over the batch_size\n",
    "                imgs = os.listdir(source_path+'/'+ t[folder + (batch*batch_size)].split(';')[0]) # read all the images in the folder\n",
    "                for idx,item in enumerate(img_idx): #  Iterate iver the frames/images of a folder to read them in\n",
    "                    image = imread(source_path+'/'+ t[folder + (batch*batch_size)].strip().split(';')[0]+'/'+imgs[item]).astype(np.float32)\n",
    "                    \n",
    "                    #crop the images and resize them. Note that the images are of 2 different shape \n",
    "                    #and the conv3D will throw error if the inputs in a batch have different shapes\n",
    "                   \n",
    "                    image = imresize(image,(50,50))\n",
    "                    image = image - np.percentile(image,5)/ np.percentile(image,95) - np.percentile(image,5)\n",
    "                    batch_data[folder,idx,:,:,0] = image[:,:,0]\n",
    "                    batch_data[folder,idx,:,:,1] = image[:,:,1]\n",
    "                    batch_data[folder,idx,:,:,2] = image[:,:,2]\n",
    "                    \n",
    "                batch_labels[folder, int(t[folder + (batch*batch_size)].strip().split(';')[2])] = 1\n",
    "            yield batch_data, batch_labels"
   ]
  },
  {
   "cell_type": "markdown",
   "metadata": {
    "id": "z-ZejwTp_nkW"
   },
   "source": [
    "Note here that a video is represented above in the generator as (number of images, height, width, number of channels). Take this into consideration while creating the model architecture."
   ]
  },
  {
   "cell_type": "code",
   "execution_count": null,
   "metadata": {
    "colab": {
     "base_uri": "https://localhost:8080/"
    },
    "id": "Fa4kLiM9_nkW",
    "outputId": "79adef8e-bf1c-4cd3-c92f-b214bb3e7d3b"
   },
   "outputs": [
    {
     "name": "stdout",
     "output_type": "stream",
     "text": [
      "# training sequences = 663\n",
      "# validation sequences = 100\n",
      "# epochs = 70\n"
     ]
    }
   ],
   "source": [
    "curr_dt_time = datetime.datetime.now()\n",
    "train_path = '/content/drive/MyDrive/Project_data.zip (Unzipped Files)/Project_data/train'\n",
    "val_path = '/content/drive/MyDrive/Project_data.zip (Unzipped Files)/Project_data/val'\n",
    "num_train_sequences = len(train_doc)\n",
    "print('# training sequences =', num_train_sequences)\n",
    "num_val_sequences = len(val_doc)\n",
    "print('# validation sequences =', num_val_sequences)\n",
    "num_epochs = 70 # choose the number of epochs\n",
    "print ('# epochs =', num_epochs)"
   ]
  },
  {
   "cell_type": "markdown",
   "metadata": {
    "id": "Tett7k0t_nkX"
   },
   "source": [
    "## Model\n",
    "Here you make the model using different functionalities that Keras provides. Remember to use `Conv3D` and `MaxPooling3D` and not `Conv2D` and `Maxpooling2D` for a 3D convolution model. You would want to use `TimeDistributed` while building a Conv2D + RNN model. Also remember that the last layer is the softmax. Design the network in such a way that the model is able to give good accuracy on the least number of parameters so that it can fit in the memory of the webcam."
   ]
  },
  {
   "cell_type": "code",
   "execution_count": null,
   "metadata": {
    "collapsed": true,
    "id": "y4KT1mWkApLt"
   },
   "outputs": [],
   "source": [
    "\n",
    "from keras.models import Sequential, Model\n",
    "from keras.layers import Dense, GRU, Flatten, TimeDistributed, Flatten, BatchNormalization, Activation, Dropout\n",
    "from keras.layers.convolutional import Conv2D, MaxPooling2D, AveragePooling2D\n",
    "from keras.callbacks import ModelCheckpoint, ReduceLROnPlateau\n",
    "from keras import optimizers\n",
    "from keras.regularizers import l2\n",
    "from keras.layers import LSTM, GRU, Bidirectional, SimpleRNN, RNN\n",
    "\n",
    "model = Sequential()\n",
    "\n",
    "model.add(TimeDistributed(Conv2D(16, (2, 2), padding='same'),\n",
    "                 input_shape=(10,50,50,3)))\n",
    "model.add(Activation('relu'))\n",
    "model.add(BatchNormalization())\n",
    "model.add(TimeDistributed(Conv2D(16, (2, 2))))\n",
    "model.add(Activation('relu'))\n",
    "model.add(BatchNormalization())\n",
    "model.add(TimeDistributed(MaxPooling2D(pool_size=(2, 2))))\n",
    "model.add(Dropout(0.30))\n",
    "\n",
    "model.add(TimeDistributed(Conv2D(32, (2, 2), padding='same')))\n",
    "model.add(Activation('relu'))\n",
    "model.add(BatchNormalization())\n",
    "model.add(TimeDistributed(Conv2D(32, (2, 2), padding='same')))\n",
    "model.add(Activation('relu'))\n",
    "model.add(BatchNormalization())\n",
    "model.add(TimeDistributed(MaxPooling2D(pool_size=(2, 2))))\n",
    "model.add(Dropout(0.30))\n",
    "\n",
    "model.add(TimeDistributed(Flatten()))\n",
    "model.add(LSTM(256, return_sequences=False, dropout=0.5))\n",
    "model.add(Dense(64,kernel_regularizer=l2(0.02)))\n",
    "model.add(Activation('relu'))\n",
    "model.add(Dropout(0.30))\n",
    "model.add(Dense(5))\n",
    "model.add(Activation('softmax'))"
   ]
  },
  {
   "cell_type": "markdown",
   "metadata": {
    "id": "cFFsyFjZ_nkX"
   },
   "source": [
    "Now that you have written the model, the next step is to `compile` the model. When you print the `summary` of the model, you'll see the total number of parameters you have to train."
   ]
  },
  {
   "cell_type": "code",
   "execution_count": null,
   "metadata": {
    "colab": {
     "base_uri": "https://localhost:8080/"
    },
    "id": "qP7D841bAuk1",
    "outputId": "f09f0cc6-00a7-4c62-9c7c-e79fe450c8c2"
   },
   "outputs": [
    {
     "name": "stdout",
     "output_type": "stream",
     "text": [
      "Model: \"sequential_6\"\n",
      "_________________________________________________________________\n",
      "Layer (type)                 Output Shape              Param #   \n",
      "=================================================================\n",
      "time_distributed_36 (TimeDis (None, 10, 50, 50, 16)    208       \n",
      "_________________________________________________________________\n",
      "activation_32 (Activation)   (None, 10, 50, 50, 16)    0         \n",
      "_________________________________________________________________\n",
      "batch_normalization_20 (Batc (None, 10, 50, 50, 16)    64        \n",
      "_________________________________________________________________\n",
      "time_distributed_37 (TimeDis (None, 10, 49, 49, 16)    1040      \n",
      "_________________________________________________________________\n",
      "activation_33 (Activation)   (None, 10, 49, 49, 16)    0         \n",
      "_________________________________________________________________\n",
      "batch_normalization_21 (Batc (None, 10, 49, 49, 16)    64        \n",
      "_________________________________________________________________\n",
      "time_distributed_38 (TimeDis (None, 10, 24, 24, 16)    0         \n",
      "_________________________________________________________________\n",
      "dropout_16 (Dropout)         (None, 10, 24, 24, 16)    0         \n",
      "_________________________________________________________________\n",
      "time_distributed_39 (TimeDis (None, 10, 24, 24, 32)    2080      \n",
      "_________________________________________________________________\n",
      "activation_34 (Activation)   (None, 10, 24, 24, 32)    0         \n",
      "_________________________________________________________________\n",
      "batch_normalization_22 (Batc (None, 10, 24, 24, 32)    128       \n",
      "_________________________________________________________________\n",
      "time_distributed_40 (TimeDis (None, 10, 24, 24, 32)    4128      \n",
      "_________________________________________________________________\n",
      "activation_35 (Activation)   (None, 10, 24, 24, 32)    0         \n",
      "_________________________________________________________________\n",
      "batch_normalization_23 (Batc (None, 10, 24, 24, 32)    128       \n",
      "_________________________________________________________________\n",
      "time_distributed_41 (TimeDis (None, 10, 12, 12, 32)    0         \n",
      "_________________________________________________________________\n",
      "dropout_17 (Dropout)         (None, 10, 12, 12, 32)    0         \n",
      "_________________________________________________________________\n",
      "time_distributed_42 (TimeDis (None, 10, 4608)          0         \n",
      "_________________________________________________________________\n",
      "lstm_6 (LSTM)                (None, 256)               4981760   \n",
      "_________________________________________________________________\n",
      "dense_12 (Dense)             (None, 64)                16448     \n",
      "_________________________________________________________________\n",
      "activation_36 (Activation)   (None, 64)                0         \n",
      "_________________________________________________________________\n",
      "dropout_18 (Dropout)         (None, 64)                0         \n",
      "_________________________________________________________________\n",
      "dense_13 (Dense)             (None, 5)                 325       \n",
      "_________________________________________________________________\n",
      "activation_37 (Activation)   (None, 5)                 0         \n",
      "=================================================================\n",
      "Total params: 5,006,373\n",
      "Trainable params: 5,006,181\n",
      "Non-trainable params: 192\n",
      "_________________________________________________________________\n"
     ]
    }
   ],
   "source": [
    "# compile it\n",
    "model.compile(loss='categorical_crossentropy', optimizer='sgd', metrics=['categorical_accuracy'])\n",
    "\n",
    "# summary of model\n",
    "model.summary()"
   ]
  },
  {
   "cell_type": "markdown",
   "metadata": {
    "id": "GDI5Ztoo_nkY"
   },
   "source": [
    "Let us create the `train_generator` and the `val_generator` which will be used in `.fit_generator`."
   ]
  },
  {
   "cell_type": "code",
   "execution_count": null,
   "metadata": {
    "collapsed": true,
    "id": "deQXEtKA_nkY"
   },
   "outputs": [],
   "source": [
    "train_generator = generator(train_path, train_doc, batch_size)\n",
    "val_generator = generator(val_path, val_doc, batch_size)"
   ]
  },
  {
   "cell_type": "code",
   "execution_count": null,
   "metadata": {
    "colab": {
     "base_uri": "https://localhost:8080/"
    },
    "id": "R0qgQAh0A2We",
    "outputId": "5db99acb-7dec-43d9-cc8f-ba4e64ff9143"
   },
   "outputs": [
    {
     "name": "stdout",
     "output_type": "stream",
     "text": [
      "WARNING:tensorflow:`period` argument is deprecated. Please use `save_freq` to specify the frequency in number of batches seen.\n"
     ]
    }
   ],
   "source": [
    "\n",
    "# model_name = 'model_init' + '_' + str(curr_dt_time).replace(' ','').replace(':','_') + '/'\n",
    "model_name = 'Gesture_Rec_FInal' + '_' + str(curr_dt_time).replace(' ','').replace(':','_') + '/'\n",
    "    \n",
    "if not os.path.exists(model_name):\n",
    "    os.mkdir(model_name)\n",
    "        \n",
    "filepath = model_name + 'model-{epoch:05d}-{loss:.5f}-{categorical_accuracy:.5f}-{val_loss:.5f}-{val_categorical_accuracy:.5f}.h5'\n",
    "\n",
    "checkpoint = ModelCheckpoint(filepath, monitor='val_loss', verbose=1, save_best_only=False, save_weights_only=False, mode='auto', period=1)\n",
    "\n",
    "#LR code\n",
    "LR = ReduceLROnPlateau(monitor='val_loss', factor=0.2, patience=5, min_lr=0.02)\n",
    "callbacks_list = [checkpoint]"
   ]
  },
  {
   "cell_type": "markdown",
   "metadata": {
    "id": "S_NeukR__nkZ"
   },
   "source": [
    "The `steps_per_epoch` and `validation_steps` are used by `fit_generator` to decide the number of next() calls it need to make."
   ]
  },
  {
   "cell_type": "code",
   "execution_count": null,
   "metadata": {
    "collapsed": true,
    "id": "-YeP13f7_nkZ"
   },
   "outputs": [],
   "source": [
    "if (num_train_sequences%batch_size) == 0:\n",
    "    steps_per_epoch = int(num_train_sequences/batch_size)\n",
    "else:\n",
    "    steps_per_epoch = (num_train_sequences//batch_size) + 1\n",
    "\n",
    "if (num_val_sequences%batch_size) == 0:\n",
    "    validation_steps = int(num_val_sequences/batch_size)\n",
    "else:\n",
    "    validation_steps = (num_val_sequences//batch_size) + 1"
   ]
  },
  {
   "cell_type": "markdown",
   "metadata": {
    "id": "9FIDpbg1_nkZ"
   },
   "source": [
    "Let us now fit the model. This will start training the model and with the help of the checkpoints, you'll be able to save the model at the end of each epoch."
   ]
  },
  {
   "cell_type": "code",
   "execution_count": null,
   "metadata": {
    "colab": {
     "base_uri": "https://localhost:8080/"
    },
    "id": "9LH81EAc_nkZ",
    "outputId": "3feac452-7a0a-40c0-b842-4259d6722715"
   },
   "outputs": [
    {
     "name": "stderr",
     "output_type": "stream",
     "text": [
      "/usr/local/lib/python3.7/dist-packages/keras/engine/training.py:1915: UserWarning: `Model.fit_generator` is deprecated and will be removed in a future version. Please use `Model.fit`, which supports generators.\n",
      "  warnings.warn('`Model.fit_generator` is deprecated and '\n",
      "/usr/local/lib/python3.7/dist-packages/ipykernel_launcher.py:13: DeprecationWarning:     `imread` is deprecated!\n",
      "    `imread` is deprecated in SciPy 1.0.0, and will be removed in 1.2.0.\n",
      "    Use ``imageio.imread`` instead.\n",
      "  del sys.path[0]\n",
      "/usr/local/lib/python3.7/dist-packages/ipykernel_launcher.py:18: DeprecationWarning:     `imresize` is deprecated!\n",
      "    `imresize` is deprecated in SciPy 1.0.0, and will be removed in 1.2.0.\n",
      "    Use ``skimage.transform.resize`` instead.\n"
     ]
    },
    {
     "name": "stdout",
     "output_type": "stream",
     "text": [
      "Epoch 1/70\n",
      " 8/11 [====================>.........] - ETA: 4s - loss: 1.8511 - categorical_accuracy: 0.6523"
     ]
    },
    {
     "name": "stderr",
     "output_type": "stream",
     "text": [
      "/usr/local/lib/python3.7/dist-packages/ipykernel_launcher.py:34: DeprecationWarning:     `imread` is deprecated!\n",
      "    `imread` is deprecated in SciPy 1.0.0, and will be removed in 1.2.0.\n",
      "    Use ``imageio.imread`` instead.\n",
      "/usr/local/lib/python3.7/dist-packages/ipykernel_launcher.py:39: DeprecationWarning:     `imresize` is deprecated!\n",
      "    `imresize` is deprecated in SciPy 1.0.0, and will be removed in 1.2.0.\n",
      "    Use ``skimage.transform.resize`` instead.\n"
     ]
    },
    {
     "name": "stdout",
     "output_type": "stream",
     "text": [
      "11/11 [==============================] - 18s 2s/step - loss: 1.8246 - categorical_accuracy: 0.6501 - val_loss: 1.9429 - val_categorical_accuracy: 0.5833\n",
      "\n",
      "Epoch 00001: saving model to Gesture_Rec_FInal_2021-07-3112_59_09.968701/model-00001-1.82463-0.65015-1.94292-0.58333.h5\n",
      "Epoch 2/70\n",
      "11/11 [==============================] - 19s 2s/step - loss: 1.7867 - categorical_accuracy: 0.6676 - val_loss: 2.7912 - val_categorical_accuracy: 0.2778\n",
      "\n",
      "Epoch 00002: saving model to Gesture_Rec_FInal_2021-07-3112_59_09.968701/model-00002-1.78667-0.66761-2.79117-0.27778.h5\n",
      "Epoch 3/70\n",
      "11/11 [==============================] - 19s 2s/step - loss: 1.8255 - categorical_accuracy: 0.6531 - val_loss: 2.0020 - val_categorical_accuracy: 0.5469\n",
      "\n",
      "Epoch 00003: saving model to Gesture_Rec_FInal_2021-07-3112_59_09.968701/model-00003-1.82551-0.65306-2.00201-0.54688.h5\n",
      "Epoch 4/70\n",
      "11/11 [==============================] - 20s 2s/step - loss: 1.7104 - categorical_accuracy: 0.7102 - val_loss: 1.6611 - val_categorical_accuracy: 0.7188\n",
      "\n",
      "Epoch 00004: saving model to Gesture_Rec_FInal_2021-07-3112_59_09.968701/model-00004-1.71042-0.71023-1.66108-0.71875.h5\n",
      "Epoch 5/70\n",
      "11/11 [==============================] - 20s 2s/step - loss: 1.7634 - categorical_accuracy: 0.6385 - val_loss: 1.6895 - val_categorical_accuracy: 0.7500\n",
      "\n",
      "Epoch 00005: saving model to Gesture_Rec_FInal_2021-07-3112_59_09.968701/model-00005-1.76345-0.63848-1.68946-0.75000.h5\n",
      "Epoch 6/70\n",
      "11/11 [==============================] - 18s 2s/step - loss: 1.6799 - categorical_accuracy: 0.7301 - val_loss: 1.7658 - val_categorical_accuracy: 0.6667\n",
      "\n",
      "Epoch 00006: saving model to Gesture_Rec_FInal_2021-07-3112_59_09.968701/model-00006-1.67994-0.73011-1.76582-0.66667.h5\n",
      "Epoch 7/70\n",
      "11/11 [==============================] - 18s 2s/step - loss: 1.6761 - categorical_accuracy: 0.7143 - val_loss: 1.7868 - val_categorical_accuracy: 0.6562\n",
      "\n",
      "Epoch 00007: saving model to Gesture_Rec_FInal_2021-07-3112_59_09.968701/model-00007-1.67607-0.71429-1.78676-0.65625.h5\n",
      "Epoch 8/70\n",
      "11/11 [==============================] - 21s 2s/step - loss: 1.6816 - categorical_accuracy: 0.7045 - val_loss: 2.0058 - val_categorical_accuracy: 0.5938\n",
      "\n",
      "Epoch 00008: saving model to Gesture_Rec_FInal_2021-07-3112_59_09.968701/model-00008-1.68164-0.70455-2.00581-0.59375.h5\n",
      "Epoch 9/70\n",
      "11/11 [==============================] - 19s 2s/step - loss: 1.6132 - categorical_accuracy: 0.7638 - val_loss: 2.1179 - val_categorical_accuracy: 0.5556\n",
      "\n",
      "Epoch 00009: saving model to Gesture_Rec_FInal_2021-07-3112_59_09.968701/model-00009-1.61321-0.76385-2.11788-0.55556.h5\n",
      "Epoch 10/70\n",
      "11/11 [==============================] - 18s 2s/step - loss: 1.6089 - categorical_accuracy: 0.7415 - val_loss: 1.7170 - val_categorical_accuracy: 0.6667\n",
      "\n",
      "Epoch 00010: saving model to Gesture_Rec_FInal_2021-07-3112_59_09.968701/model-00010-1.60892-0.74148-1.71701-0.66667.h5\n",
      "Epoch 11/70\n",
      "11/11 [==============================] - 18s 2s/step - loss: 1.5649 - categorical_accuracy: 0.7551 - val_loss: 1.5715 - val_categorical_accuracy: 0.7031\n",
      "\n",
      "Epoch 00011: saving model to Gesture_Rec_FInal_2021-07-3112_59_09.968701/model-00011-1.56490-0.75510-1.57152-0.70312.h5\n",
      "Epoch 12/70\n",
      "11/11 [==============================] - 21s 2s/step - loss: 1.5706 - categorical_accuracy: 0.7443 - val_loss: 2.1111 - val_categorical_accuracy: 0.5469\n",
      "\n",
      "Epoch 00012: saving model to Gesture_Rec_FInal_2021-07-3112_59_09.968701/model-00012-1.57057-0.74432-2.11110-0.54688.h5\n",
      "Epoch 13/70\n",
      "11/11 [==============================] - 18s 2s/step - loss: 1.5922 - categorical_accuracy: 0.7289 - val_loss: 1.6783 - val_categorical_accuracy: 0.6389\n",
      "\n",
      "Epoch 00013: saving model to Gesture_Rec_FInal_2021-07-3112_59_09.968701/model-00013-1.59223-0.72886-1.67829-0.63889.h5\n",
      "Epoch 14/70\n",
      "11/11 [==============================] - 18s 2s/step - loss: 1.5590 - categorical_accuracy: 0.7670 - val_loss: 1.6385 - val_categorical_accuracy: 0.6667\n",
      "\n",
      "Epoch 00014: saving model to Gesture_Rec_FInal_2021-07-3112_59_09.968701/model-00014-1.55896-0.76705-1.63854-0.66667.h5\n",
      "Epoch 15/70\n",
      "11/11 [==============================] - 19s 2s/step - loss: 1.5101 - categorical_accuracy: 0.7668 - val_loss: 1.4904 - val_categorical_accuracy: 0.7656\n",
      "\n",
      "Epoch 00015: saving model to Gesture_Rec_FInal_2021-07-3112_59_09.968701/model-00015-1.51012-0.76676-1.49041-0.76562.h5\n",
      "Epoch 16/70\n",
      "11/11 [==============================] - 20s 2s/step - loss: 1.4795 - categorical_accuracy: 0.7557 - val_loss: 1.7086 - val_categorical_accuracy: 0.7188\n",
      "\n",
      "Epoch 00016: saving model to Gesture_Rec_FInal_2021-07-3112_59_09.968701/model-00016-1.47953-0.75568-1.70863-0.71875.h5\n",
      "Epoch 17/70\n",
      "11/11 [==============================] - 18s 2s/step - loss: 1.4726 - categorical_accuracy: 0.7755 - val_loss: 1.8479 - val_categorical_accuracy: 0.6389\n",
      "\n",
      "Epoch 00017: saving model to Gesture_Rec_FInal_2021-07-3112_59_09.968701/model-00017-1.47264-0.77551-1.84792-0.63889.h5\n",
      "Epoch 18/70\n",
      "11/11 [==============================] - 19s 2s/step - loss: 1.4338 - categorical_accuracy: 0.7843 - val_loss: 1.4445 - val_categorical_accuracy: 0.8333\n",
      "\n",
      "Epoch 00018: saving model to Gesture_Rec_FInal_2021-07-3112_59_09.968701/model-00018-1.43379-0.78426-1.44452-0.83333.h5\n",
      "Epoch 19/70\n",
      "11/11 [==============================] - 20s 2s/step - loss: 1.4268 - categorical_accuracy: 0.7926 - val_loss: 1.5374 - val_categorical_accuracy: 0.7188\n",
      "\n",
      "Epoch 00019: saving model to Gesture_Rec_FInal_2021-07-3112_59_09.968701/model-00019-1.42682-0.79261-1.53742-0.71875.h5\n",
      "Epoch 20/70\n",
      "11/11 [==============================] - 19s 2s/step - loss: 1.4243 - categorical_accuracy: 0.8047 - val_loss: 1.6427 - val_categorical_accuracy: 0.7188\n",
      "\n",
      "Epoch 00020: saving model to Gesture_Rec_FInal_2021-07-3112_59_09.968701/model-00020-1.42432-0.80466-1.64269-0.71875.h5\n",
      "Epoch 21/70\n",
      "11/11 [==============================] - 19s 2s/step - loss: 1.3943 - categorical_accuracy: 0.7983 - val_loss: 1.6830 - val_categorical_accuracy: 0.7500\n",
      "\n",
      "Epoch 00021: saving model to Gesture_Rec_FInal_2021-07-3112_59_09.968701/model-00021-1.39429-0.79830-1.68299-0.75000.h5\n",
      "Epoch 22/70\n",
      "11/11 [==============================] - 19s 2s/step - loss: 1.4332 - categorical_accuracy: 0.7784 - val_loss: 1.7116 - val_categorical_accuracy: 0.7222\n",
      "\n",
      "Epoch 00022: saving model to Gesture_Rec_FInal_2021-07-3112_59_09.968701/model-00022-1.43317-0.77843-1.71161-0.72222.h5\n",
      "Epoch 23/70\n",
      "11/11 [==============================] - 19s 2s/step - loss: 1.3769 - categorical_accuracy: 0.8210 - val_loss: 2.1432 - val_categorical_accuracy: 0.4844\n",
      "\n",
      "Epoch 00023: saving model to Gesture_Rec_FInal_2021-07-3112_59_09.968701/model-00023-1.37689-0.82102-2.14319-0.48438.h5\n",
      "Epoch 24/70\n",
      "11/11 [==============================] - 22s 2s/step - loss: 1.4134 - categorical_accuracy: 0.7959 - val_loss: 1.6927 - val_categorical_accuracy: 0.6875\n",
      "\n",
      "Epoch 00024: saving model to Gesture_Rec_FInal_2021-07-3112_59_09.968701/model-00024-1.41337-0.79592-1.69268-0.68750.h5\n",
      "Epoch 25/70\n",
      "11/11 [==============================] - 18s 2s/step - loss: 1.3450 - categorical_accuracy: 0.8125 - val_loss: 1.8391 - val_categorical_accuracy: 0.6667\n",
      "\n",
      "Epoch 00025: saving model to Gesture_Rec_FInal_2021-07-3112_59_09.968701/model-00025-1.34498-0.81250-1.83914-0.66667.h5\n",
      "Epoch 26/70\n",
      "11/11 [==============================] - 18s 2s/step - loss: 1.3016 - categorical_accuracy: 0.8076 - val_loss: 1.5063 - val_categorical_accuracy: 0.7222\n",
      "\n",
      "Epoch 00026: saving model to Gesture_Rec_FInal_2021-07-3112_59_09.968701/model-00026-1.30161-0.80758-1.50631-0.72222.h5\n",
      "Epoch 27/70\n",
      "11/11 [==============================] - 19s 2s/step - loss: 1.2899 - categorical_accuracy: 0.8267 - val_loss: 2.0013 - val_categorical_accuracy: 0.6094\n",
      "\n",
      "Epoch 00027: saving model to Gesture_Rec_FInal_2021-07-3112_59_09.968701/model-00027-1.28991-0.82670-2.00126-0.60938.h5\n",
      "Epoch 28/70\n",
      "11/11 [==============================] - 20s 2s/step - loss: 1.2724 - categorical_accuracy: 0.8397 - val_loss: 2.1974 - val_categorical_accuracy: 0.5781\n",
      "\n",
      "Epoch 00028: saving model to Gesture_Rec_FInal_2021-07-3112_59_09.968701/model-00028-1.27236-0.83965-2.19741-0.57812.h5\n",
      "Epoch 29/70\n",
      "11/11 [==============================] - 19s 2s/step - loss: 1.2901 - categorical_accuracy: 0.8239 - val_loss: 2.4638 - val_categorical_accuracy: 0.5278\n",
      "\n",
      "Epoch 00029: saving model to Gesture_Rec_FInal_2021-07-3112_59_09.968701/model-00029-1.29008-0.82386-2.46382-0.52778.h5\n",
      "Epoch 30/70\n",
      "11/11 [==============================] - 19s 2s/step - loss: 1.3305 - categorical_accuracy: 0.8163 - val_loss: 1.2289 - val_categorical_accuracy: 0.8611\n",
      "\n",
      "Epoch 00030: saving model to Gesture_Rec_FInal_2021-07-3112_59_09.968701/model-00030-1.33046-0.81633-1.22891-0.86111.h5\n",
      "Epoch 31/70\n",
      "11/11 [==============================] - 20s 2s/step - loss: 1.2861 - categorical_accuracy: 0.8466 - val_loss: 1.4094 - val_categorical_accuracy: 0.7500\n",
      "\n",
      "Epoch 00031: saving model to Gesture_Rec_FInal_2021-07-3112_59_09.968701/model-00031-1.28608-0.84659-1.40939-0.75000.h5\n",
      "Epoch 32/70\n",
      "11/11 [==============================] - 20s 2s/step - loss: 1.2717 - categorical_accuracy: 0.8309 - val_loss: 1.5187 - val_categorical_accuracy: 0.7500\n",
      "\n",
      "Epoch 00032: saving model to Gesture_Rec_FInal_2021-07-3112_59_09.968701/model-00032-1.27166-0.83090-1.51870-0.75000.h5\n",
      "Epoch 33/70\n",
      "11/11 [==============================] - 18s 2s/step - loss: 1.1864 - categorical_accuracy: 0.8920 - val_loss: 1.7463 - val_categorical_accuracy: 0.6944\n",
      "\n",
      "Epoch 00033: saving model to Gesture_Rec_FInal_2021-07-3112_59_09.968701/model-00033-1.18645-0.89205-1.74634-0.69444.h5\n",
      "Epoch 34/70\n",
      "11/11 [==============================] - 19s 2s/step - loss: 1.2140 - categorical_accuracy: 0.8805 - val_loss: 1.5578 - val_categorical_accuracy: 0.7778\n",
      "\n",
      "Epoch 00034: saving model to Gesture_Rec_FInal_2021-07-3112_59_09.968701/model-00034-1.21397-0.88047-1.55780-0.77778.h5\n",
      "Epoch 35/70\n",
      "11/11 [==============================] - 19s 2s/step - loss: 1.1911 - categorical_accuracy: 0.8466 - val_loss: 1.3042 - val_categorical_accuracy: 0.8125\n",
      "\n",
      "Epoch 00035: saving model to Gesture_Rec_FInal_2021-07-3112_59_09.968701/model-00035-1.19109-0.84659-1.30416-0.81250.h5\n",
      "Epoch 36/70\n",
      "11/11 [==============================] - 20s 2s/step - loss: 1.2308 - categorical_accuracy: 0.8542 - val_loss: 1.6305 - val_categorical_accuracy: 0.7188\n",
      "\n",
      "Epoch 00036: saving model to Gesture_Rec_FInal_2021-07-3112_59_09.968701/model-00036-1.23078-0.85423-1.63051-0.71875.h5\n",
      "Epoch 37/70\n",
      "11/11 [==============================] - 18s 2s/step - loss: 1.1270 - categorical_accuracy: 0.8949 - val_loss: 1.5722 - val_categorical_accuracy: 0.7778\n",
      "\n",
      "Epoch 00037: saving model to Gesture_Rec_FInal_2021-07-3112_59_09.968701/model-00037-1.12700-0.89489-1.57219-0.77778.h5\n",
      "Epoch 38/70\n",
      "11/11 [==============================] - 20s 2s/step - loss: 1.1380 - categorical_accuracy: 0.8892 - val_loss: 1.4948 - val_categorical_accuracy: 0.7222\n",
      "\n",
      "Epoch 00038: saving model to Gesture_Rec_FInal_2021-07-3112_59_09.968701/model-00038-1.13805-0.88921-1.49483-0.72222.h5\n",
      "Epoch 39/70\n",
      "11/11 [==============================] - 18s 2s/step - loss: 1.1408 - categorical_accuracy: 0.9038 - val_loss: 1.6242 - val_categorical_accuracy: 0.6875\n",
      "\n",
      "Epoch 00039: saving model to Gesture_Rec_FInal_2021-07-3112_59_09.968701/model-00039-1.14081-0.90379-1.62425-0.68750.h5\n",
      "Epoch 40/70\n",
      "11/11 [==============================] - 20s 2s/step - loss: 1.1515 - categorical_accuracy: 0.8835 - val_loss: 1.4889 - val_categorical_accuracy: 0.7812\n",
      "\n",
      "Epoch 00040: saving model to Gesture_Rec_FInal_2021-07-3112_59_09.968701/model-00040-1.15148-0.88352-1.48889-0.78125.h5\n",
      "Epoch 41/70\n",
      "11/11 [==============================] - 18s 2s/step - loss: 1.1879 - categorical_accuracy: 0.8630 - val_loss: 1.5290 - val_categorical_accuracy: 0.7778\n",
      "\n",
      "Epoch 00041: saving model to Gesture_Rec_FInal_2021-07-3112_59_09.968701/model-00041-1.18790-0.86297-1.52901-0.77778.h5\n",
      "Epoch 42/70\n",
      "11/11 [==============================] - 19s 2s/step - loss: 1.0835 - categorical_accuracy: 0.8949 - val_loss: 1.4969 - val_categorical_accuracy: 0.7778\n",
      "\n",
      "Epoch 00042: saving model to Gesture_Rec_FInal_2021-07-3112_59_09.968701/model-00042-1.08352-0.89489-1.49692-0.77778.h5\n",
      "Epoch 43/70\n",
      "11/11 [==============================] - 19s 2s/step - loss: 1.1550 - categorical_accuracy: 0.8863 - val_loss: 1.5518 - val_categorical_accuracy: 0.7031\n",
      "\n",
      "Epoch 00043: saving model to Gesture_Rec_FInal_2021-07-3112_59_09.968701/model-00043-1.15498-0.88630-1.55182-0.70312.h5\n",
      "Epoch 44/70\n",
      "11/11 [==============================] - 20s 2s/step - loss: 1.0658 - categorical_accuracy: 0.9034 - val_loss: 1.4178 - val_categorical_accuracy: 0.7656\n",
      "\n",
      "Epoch 00044: saving model to Gesture_Rec_FInal_2021-07-3112_59_09.968701/model-00044-1.06578-0.90341-1.41784-0.76562.h5\n",
      "Epoch 45/70\n",
      "11/11 [==============================] - 18s 2s/step - loss: 1.0612 - categorical_accuracy: 0.9125 - val_loss: 1.1311 - val_categorical_accuracy: 0.8333\n",
      "\n",
      "Epoch 00045: saving model to Gesture_Rec_FInal_2021-07-3112_59_09.968701/model-00045-1.06122-0.91254-1.13114-0.83333.h5\n",
      "Epoch 46/70\n",
      "11/11 [==============================] - 20s 2s/step - loss: 1.0450 - categorical_accuracy: 0.9148 - val_loss: 1.6576 - val_categorical_accuracy: 0.7222\n",
      "\n",
      "Epoch 00046: saving model to Gesture_Rec_FInal_2021-07-3112_59_09.968701/model-00046-1.04501-0.91477-1.65760-0.72222.h5\n",
      "Epoch 47/70\n",
      "11/11 [==============================] - 18s 2s/step - loss: 1.0393 - categorical_accuracy: 0.9271 - val_loss: 1.4810 - val_categorical_accuracy: 0.7969\n",
      "\n",
      "Epoch 00047: saving model to Gesture_Rec_FInal_2021-07-3112_59_09.968701/model-00047-1.03927-0.92711-1.48102-0.79688.h5\n",
      "Epoch 48/70\n",
      "11/11 [==============================] - 20s 2s/step - loss: 1.0142 - categorical_accuracy: 0.9290 - val_loss: 1.8329 - val_categorical_accuracy: 0.6094\n",
      "\n",
      "Epoch 00048: saving model to Gesture_Rec_FInal_2021-07-3112_59_09.968701/model-00048-1.01420-0.92898-1.83292-0.60938.h5\n",
      "Epoch 49/70\n",
      "11/11 [==============================] - 19s 2s/step - loss: 1.0098 - categorical_accuracy: 0.9271 - val_loss: 1.4565 - val_categorical_accuracy: 0.7500\n",
      "\n",
      "Epoch 00049: saving model to Gesture_Rec_FInal_2021-07-3112_59_09.968701/model-00049-1.00977-0.92711-1.45649-0.75000.h5\n",
      "Epoch 50/70\n",
      "11/11 [==============================] - 20s 2s/step - loss: 1.0349 - categorical_accuracy: 0.9119 - val_loss: 1.2694 - val_categorical_accuracy: 0.8056\n",
      "\n",
      "Epoch 00050: saving model to Gesture_Rec_FInal_2021-07-3112_59_09.968701/model-00050-1.03485-0.91193-1.26943-0.80556.h5\n",
      "Epoch 51/70\n",
      "11/11 [==============================] - 18s 2s/step - loss: 0.9805 - categorical_accuracy: 0.9388 - val_loss: 1.6152 - val_categorical_accuracy: 0.7188\n",
      "\n",
      "Epoch 00051: saving model to Gesture_Rec_FInal_2021-07-3112_59_09.968701/model-00051-0.98054-0.93878-1.61524-0.71875.h5\n",
      "Epoch 52/70\n",
      "11/11 [==============================] - 20s 2s/step - loss: 1.0090 - categorical_accuracy: 0.9148 - val_loss: 1.3272 - val_categorical_accuracy: 0.7969\n",
      "\n",
      "Epoch 00052: saving model to Gesture_Rec_FInal_2021-07-3112_59_09.968701/model-00052-1.00895-0.91477-1.32717-0.79688.h5\n",
      "Epoch 53/70\n",
      "11/11 [==============================] - 19s 2s/step - loss: 0.9997 - categorical_accuracy: 0.9300 - val_loss: 1.3898 - val_categorical_accuracy: 0.7500\n",
      "\n",
      "Epoch 00053: saving model to Gesture_Rec_FInal_2021-07-3112_59_09.968701/model-00053-0.99973-0.93003-1.38977-0.75000.h5\n",
      "Epoch 54/70\n",
      "11/11 [==============================] - 19s 2s/step - loss: 0.9865 - categorical_accuracy: 0.9062 - val_loss: 1.6123 - val_categorical_accuracy: 0.7222\n",
      "\n",
      "Epoch 00054: saving model to Gesture_Rec_FInal_2021-07-3112_59_09.968701/model-00054-0.98650-0.90625-1.61226-0.72222.h5\n",
      "Epoch 55/70\n",
      "11/11 [==============================] - 19s 2s/step - loss: 0.9772 - categorical_accuracy: 0.9242 - val_loss: 1.7445 - val_categorical_accuracy: 0.7500\n",
      "\n",
      "Epoch 00055: saving model to Gesture_Rec_FInal_2021-07-3112_59_09.968701/model-00055-0.97720-0.92420-1.74446-0.75000.h5\n",
      "Epoch 56/70\n",
      "11/11 [==============================] - 20s 2s/step - loss: 0.9847 - categorical_accuracy: 0.9233 - val_loss: 1.4897 - val_categorical_accuracy: 0.7500\n",
      "\n",
      "Epoch 00056: saving model to Gesture_Rec_FInal_2021-07-3112_59_09.968701/model-00056-0.98467-0.92330-1.48972-0.75000.h5\n",
      "Epoch 57/70\n",
      "11/11 [==============================] - 18s 2s/step - loss: 0.9787 - categorical_accuracy: 0.9184 - val_loss: 1.2333 - val_categorical_accuracy: 0.8056\n",
      "\n",
      "Epoch 00057: saving model to Gesture_Rec_FInal_2021-07-3112_59_09.968701/model-00057-0.97869-0.91837-1.23331-0.80556.h5\n",
      "Epoch 58/70\n",
      "11/11 [==============================] - 19s 2s/step - loss: 0.9451 - categorical_accuracy: 0.9290 - val_loss: 1.3751 - val_categorical_accuracy: 0.8056\n",
      "\n",
      "Epoch 00058: saving model to Gesture_Rec_FInal_2021-07-3112_59_09.968701/model-00058-0.94514-0.92898-1.37513-0.80556.h5\n",
      "Epoch 59/70\n",
      "11/11 [==============================] - 20s 2s/step - loss: 0.9620 - categorical_accuracy: 0.9271 - val_loss: 1.4370 - val_categorical_accuracy: 0.7812\n",
      "\n",
      "Epoch 00059: saving model to Gesture_Rec_FInal_2021-07-3112_59_09.968701/model-00059-0.96203-0.92711-1.43705-0.78125.h5\n",
      "Epoch 60/70\n",
      "11/11 [==============================] - 19s 2s/step - loss: 0.9340 - categorical_accuracy: 0.9359 - val_loss: 1.3674 - val_categorical_accuracy: 0.8125\n",
      "\n",
      "Epoch 00060: saving model to Gesture_Rec_FInal_2021-07-3112_59_09.968701/model-00060-0.93401-0.93586-1.36741-0.81250.h5\n",
      "Epoch 61/70\n",
      "11/11 [==============================] - 19s 2s/step - loss: 0.9046 - categorical_accuracy: 0.9489 - val_loss: 1.7159 - val_categorical_accuracy: 0.6389\n",
      "\n",
      "Epoch 00061: saving model to Gesture_Rec_FInal_2021-07-3112_59_09.968701/model-00061-0.90457-0.94886-1.71589-0.63889.h5\n",
      "Epoch 62/70\n",
      "11/11 [==============================] - 19s 2s/step - loss: 0.9137 - categorical_accuracy: 0.9446 - val_loss: 1.8245 - val_categorical_accuracy: 0.6111\n",
      "\n",
      "Epoch 00062: saving model to Gesture_Rec_FInal_2021-07-3112_59_09.968701/model-00062-0.91366-0.94461-1.82452-0.61111.h5\n",
      "Epoch 63/70\n",
      "11/11 [==============================] - 19s 2s/step - loss: 0.8837 - categorical_accuracy: 0.9489 - val_loss: 1.3332 - val_categorical_accuracy: 0.8125\n",
      "\n",
      "Epoch 00063: saving model to Gesture_Rec_FInal_2021-07-3112_59_09.968701/model-00063-0.88366-0.94886-1.33318-0.81250.h5\n",
      "Epoch 64/70\n",
      "11/11 [==============================] - 19s 2s/step - loss: 0.9152 - categorical_accuracy: 0.9446 - val_loss: 1.4047 - val_categorical_accuracy: 0.7969\n",
      "\n",
      "Epoch 00064: saving model to Gesture_Rec_FInal_2021-07-3112_59_09.968701/model-00064-0.91525-0.94461-1.40465-0.79688.h5\n",
      "Epoch 65/70\n",
      "11/11 [==============================] - 19s 2s/step - loss: 0.9045 - categorical_accuracy: 0.9403 - val_loss: 1.2736 - val_categorical_accuracy: 0.8333\n",
      "\n",
      "Epoch 00065: saving model to Gesture_Rec_FInal_2021-07-3112_59_09.968701/model-00065-0.90452-0.94034-1.27356-0.83333.h5\n",
      "Epoch 66/70\n",
      "11/11 [==============================] - 19s 2s/step - loss: 0.9262 - categorical_accuracy: 0.9359 - val_loss: 1.1941 - val_categorical_accuracy: 0.8056\n",
      "\n",
      "Epoch 00066: saving model to Gesture_Rec_FInal_2021-07-3112_59_09.968701/model-00066-0.92619-0.93586-1.19406-0.80556.h5\n",
      "Epoch 67/70\n",
      "11/11 [==============================] - 19s 2s/step - loss: 0.8930 - categorical_accuracy: 0.9489 - val_loss: 1.4117 - val_categorical_accuracy: 0.7344\n",
      "\n",
      "Epoch 00067: saving model to Gesture_Rec_FInal_2021-07-3112_59_09.968701/model-00067-0.89305-0.94886-1.41174-0.73438.h5\n",
      "Epoch 68/70\n",
      "11/11 [==============================] - 20s 2s/step - loss: 0.8579 - categorical_accuracy: 0.9504 - val_loss: 1.3458 - val_categorical_accuracy: 0.7969\n",
      "\n",
      "Epoch 00068: saving model to Gesture_Rec_FInal_2021-07-3112_59_09.968701/model-00068-0.85791-0.95044-1.34576-0.79688.h5\n",
      "Epoch 69/70\n",
      "11/11 [==============================] - 20s 2s/step - loss: 0.8484 - categorical_accuracy: 0.9631 - val_loss: 1.4236 - val_categorical_accuracy: 0.7778\n",
      "\n",
      "Epoch 00069: saving model to Gesture_Rec_FInal_2021-07-3112_59_09.968701/model-00069-0.84844-0.96307-1.42357-0.77778.h5\n",
      "Epoch 70/70\n",
      "11/11 [==============================] - 18s 2s/step - loss: 0.8640 - categorical_accuracy: 0.9534 - val_loss: 1.4721 - val_categorical_accuracy: 0.6944\n",
      "\n",
      "Epoch 00070: saving model to Gesture_Rec_FInal_2021-07-3112_59_09.968701/model-00070-0.86405-0.95335-1.47212-0.69444.h5\n"
     ]
    }
   ],
   "source": [
    "final_4 = model.fit_generator(train_generator, steps_per_epoch=steps_per_epoch, epochs=num_epochs, verbose=1, \n",
    "                    callbacks=callbacks_list, validation_data=val_generator, \n",
    "                    validation_steps=validation_steps, class_weight=None, workers=1, initial_epoch=0)"
   ]
  },
  {
   "cell_type": "code",
   "execution_count": null,
   "metadata": {
    "collapsed": true,
    "id": "nmet81oLa1xU"
   },
   "outputs": [],
   "source": [
    "import cv2\n",
    "import matplotlib.pyplot as plt\n",
    "% matplotlib inline\n",
    "\n",
    "def plot(history):\n",
    "    fig, axes = plt.subplots(nrows=1, ncols=2, figsize=(15,4))\n",
    "    axes[0].plot(history.history['loss'])   \n",
    "    axes[0].plot(history.history['val_loss'])\n",
    "    axes[0].legend(['loss','val_loss'])\n",
    "\n",
    "    axes[1].plot(history.history['categorical_accuracy'])   \n",
    "    axes[1].plot(history.history['val_categorical_accuracy'])\n",
    "    axes[1].legend(['categorical_accuracy','val_categorical_accuracy'])"
   ]
  },
  {
   "cell_type": "code",
   "execution_count": null,
   "metadata": {
    "colab": {
     "base_uri": "https://localhost:8080/",
     "height": 252
    },
    "id": "20B5P_-p_nkZ",
    "outputId": "8f1cf39a-1044-4390-bd2c-c5d3748e8fa5"
   },
   "outputs": [
    {
     "data": {
      "image/png": "[encoded data removed]",
      "text/plain": [
       "<Figure size 1080x288 with 2 Axes>"
      ]
     },
     "metadata": {
      "needs_background": "light",
      "tags": []
     },
     "output_type": "display_data"
    }
   ],
   "source": [
    "plot(final_4)"
   ]
  },
  {
   "cell_type": "code",
   "execution_count": null,
   "metadata": {
    "collapsed": true,
    "id": "nl_e0dgYa-px"
   },
   "outputs": [],
   "source": []
  },
  {
   "cell_type": "markdown",
   "metadata": {
    "id": "E3r87If_yUv6"
   },
   "source": [
    "**model-00035-1.19109-0.84659-1.30416-0.81250.h5 is the best model we can see here which is having Train Accuray = 84.6 and test accuracy = 81.25**\n",
    "\n",
    "we can increase batch size and at the same time increase the Epoch to get more stable test and train accuracy"
   ]
  },
  {
   "cell_type": "code",
   "execution_count": null,
   "metadata": {
    "collapsed": true,
    "id": "9tCFOjbuypkI"
   },
   "outputs": [],
   "source": []
  }
 ],
 "metadata": {
  "accelerator": "GPU",
  "colab": {
   "collapsed_sections": [],
   "name": "Check Now(2).ipynb",
   "provenance": []
  },
  "kernelspec": {
   "display_name": "Python 3",
   "language": "python",
   "name": "python3"
  },
  "language_info": {
   "codemirror_mode": {
    "name": "ipython",
    "version": 3
   },
   "file_extension": ".py",
   "mimetype": "text/x-python",
   "name": "python",
   "nbconvert_exporter": "python",
   "pygments_lexer": "ipython3",
   "version": "3.6.1"
  }
 },
 "nbformat": 4,
 "nbformat_minor": 1
}
